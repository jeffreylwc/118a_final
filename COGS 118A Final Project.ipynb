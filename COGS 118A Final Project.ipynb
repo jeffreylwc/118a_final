{
  "nbformat": 4,
  "nbformat_minor": 0,
  "metadata": {
    "kernelspec": {
      "display_name": "Python 3",
      "language": "python",
      "name": "python3"
    },
    "language_info": {
      "codemirror_mode": {
        "name": "ipython",
        "version": 3
      },
      "file_extension": ".py",
      "mimetype": "text/x-python",
      "name": "python",
      "nbconvert_exporter": "python",
      "pygments_lexer": "ipython3",
      "version": "3.7.6"
    },
    "colab": {
      "name": "COGS 118A Final Project.ipynb",
      "provenance": []
    }
  },
  "cells": [
    {
      "cell_type": "code",
      "metadata": {
        "id": "TrwZ6RIOAFo5"
      },
      "source": [
        "import numpy as np\n",
        "import pandas as pd\n",
        "import matplotlib.pyplot as plt\n",
        "import seaborn as sns\n",
        "from sklearn import datasets\n",
        "#from sklearn import neighbors\n",
        "from sklearn.metrics import accuracy_score\n",
        "from sklearn.model_selection import GridSearchCV, cross_val_score, train_test_split\n",
        "from sklearn.linear_model import LogisticRegression\n",
        "from sklearn.neighbors import KNeighborsClassifier\n",
        "from sklearn.ensemble import RandomForestClassifier\n",
        "from sklearn.pipeline import Pipeline\n",
        "from sklearn.preprocessing import StandardScaler\n",
        "from sklearn.model_selection import StratifiedKFold\n",
        "from sklearn.model_selection import cross_val_score\n",
        "import os\n",
        "from scipy import stats\n",
        "\n",
        "import warnings\n",
        "warnings.filterwarnings('ignore')"
      ],
      "execution_count": 144,
      "outputs": []
    },
    {
      "cell_type": "markdown",
      "metadata": {
        "id": "vssEx8ArAFo7"
      },
      "source": [
        "### CoverType: cover_type 2 (+1) vs Others (-1)"
      ]
    },
    {
      "cell_type": "code",
      "metadata": {
        "colab": {
          "resources": {
            "http://localhost:8080/nbextensions/google.colab/files.js": {
              "data": "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",
              "ok": true,
              "headers": [
                [
                  "content-type",
                  "application/javascript"
                ]
              ],
              "status": 200,
              "status_text": ""
            }
          },
          "base_uri": "https://localhost:8080/",
          "height": 145
        },
        "id": "K8Q2_7XsAFo8",
        "outputId": "276c9fff-3550-4938-a297-d896e58e65fd"
      },
      "source": [
        "from google.colab import files\n",
        "uploaded = files.upload()\n",
        "import io\n",
        "\n",
        "covtype = pd.read_csv(io.BytesIO(uploaded['covtype.data.gz']), header=None, compression='gzip')\n",
        "encoded_covtype = covtype.copy()\n",
        "\n",
        "print(covtype[54].value_counts()[0:1]) #Find which value occurs the most\n",
        "\n",
        "#Set value 2 in column 54 as +1, others as -1\n",
        "encoded_covtype[54] = encoded_covtype[54].apply(lambda x: -1 if x != 2 else 1)\n",
        "\n",
        "covtype_array = encoded_covtype.to_numpy().astype(np.float)  #Convert df to np array\n",
        "X_covtype = covtype_array[:, :-1]                               \n",
        "Y_covtype = covtype_array[:, -1].reshape(-1,1)\n",
        "covtype_array = np.hstack((X_covtype, Y_covtype))  #Stack\n",
        "\n",
        "print(X_covtype.shape)  # (581012, 54)\n",
        "print(Y_covtype.shape)  # (581012, 1)"
      ],
      "execution_count": 30,
      "outputs": [
        {
          "output_type": "display_data",
          "data": {
            "text/html": [
              "\n",
              "     <input type=\"file\" id=\"files-3b83e829-f672-4d4b-aacd-68f631d1ff4d\" name=\"files[]\" multiple disabled\n",
              "        style=\"border:none\" />\n",
              "     <output id=\"result-3b83e829-f672-4d4b-aacd-68f631d1ff4d\">\n",
              "      Upload widget is only available when the cell has been executed in the\n",
              "      current browser session. Please rerun this cell to enable.\n",
              "      </output>\n",
              "      <script src=\"/nbextensions/google.colab/files.js\"></script> "
            ],
            "text/plain": [
              "<IPython.core.display.HTML object>"
            ]
          },
          "metadata": {
            "tags": []
          }
        },
        {
          "output_type": "stream",
          "text": [
            "Saving covtype.data.gz to covtype.data.gz\n",
            "2    283301\n",
            "Name: 54, dtype: int64\n",
            "(581012, 54)\n",
            "(581012, 1)\n"
          ],
          "name": "stdout"
        }
      ]
    },
    {
      "cell_type": "code",
      "metadata": {
        "id": "ODLLgGOkAFo9"
      },
      "source": [
        ""
      ],
      "execution_count": null,
      "outputs": []
    },
    {
      "cell_type": "code",
      "metadata": {
        "id": "vfeZCQSmAFo9"
      },
      "source": [
        ""
      ],
      "execution_count": null,
      "outputs": []
    },
    {
      "cell_type": "markdown",
      "metadata": {
        "id": "A059x0mTAFo9"
      },
      "source": [
        "### Adult:  > 50k income (+1) vs  <= 50k income (-1)"
      ]
    },
    {
      "cell_type": "code",
      "metadata": {
        "colab": {
          "resources": {
            "http://localhost:8080/nbextensions/google.colab/files.js": {
              "data": "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",
              "ok": true,
              "headers": [
                [
                  "content-type",
                  "application/javascript"
                ]
              ],
              "status": 200,
              "status_text": ""
            }
          },
          "base_uri": "https://localhost:8080/",
          "height": 109
        },
        "id": "UKm9_3ywAFo-",
        "outputId": "b7375f00-07ba-4039-85ab-5640b8398e4e"
      },
      "source": [
        "adult = pd.read_csv(io.BytesIO(uploaded['adult.data']), header=None)\n",
        "encoded_adult = adult.copy()\n",
        "\n",
        "#Clean data\n",
        "encoded_adult = encoded_adult.replace(' ?', np.nan) #change all missing data to np.nan\n",
        "encoded_adult[14] = encoded_adult[14].apply(lambda x: -1 if x == ' <=50K' else 1)  #Encode >50k as +1, otherwise -1\n",
        "\n",
        "Y_adult = encoded_adult[14].to_numpy().astype(np.float).reshape(-1, 1)\n",
        "\n",
        "encoded_adult = pd.get_dummies(encoded_adult[encoded_adult.columns[:-1]])   #One-hot encoding all categorical data\n",
        "\n",
        "X_adult = encoded_adult.to_numpy().astype(np.float)\n",
        "\n",
        "adult_array = np.hstack((X_adult, Y_adult)) # stack\n",
        "\n",
        "print(X_adult.shape) # (32561, 105)\n",
        "print(Y_adult.shape) # (32561, 1)"
      ],
      "execution_count": 24,
      "outputs": [
        {
          "output_type": "display_data",
          "data": {
            "text/html": [
              "\n",
              "     <input type=\"file\" id=\"files-9cf0623b-48d6-48fb-ba1f-2b225b3e6fab\" name=\"files[]\" multiple disabled\n",
              "        style=\"border:none\" />\n",
              "     <output id=\"result-9cf0623b-48d6-48fb-ba1f-2b225b3e6fab\">\n",
              "      Upload widget is only available when the cell has been executed in the\n",
              "      current browser session. Please rerun this cell to enable.\n",
              "      </output>\n",
              "      <script src=\"/nbextensions/google.colab/files.js\"></script> "
            ],
            "text/plain": [
              "<IPython.core.display.HTML object>"
            ]
          },
          "metadata": {
            "tags": []
          }
        },
        {
          "output_type": "stream",
          "text": [
            "Saving adult.data to adult (5).data\n",
            "(32561, 105)\n",
            "(32561, 1)\n"
          ],
          "name": "stdout"
        }
      ]
    },
    {
      "cell_type": "markdown",
      "metadata": {
        "id": "ZDL2_JqIAFo-"
      },
      "source": [
        "### Letter Recognition: A-M (+1) vs N-Z (-1)"
      ]
    },
    {
      "cell_type": "code",
      "metadata": {
        "colab": {
          "resources": {
            "http://localhost:8080/nbextensions/google.colab/files.js": {
              "data": "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",
              "ok": true,
              "headers": [
                [
                  "content-type",
                  "application/javascript"
                ]
              ],
              "status": 200,
              "status_text": ""
            }
          },
          "base_uri": "https://localhost:8080/",
          "height": 109
        },
        "id": "bg_FiHtgAFo_",
        "outputId": "464fed53-7fc9-486f-e8b9-f2ef210e691e"
      },
      "source": [
        "from google.colab import files\n",
        "uploaded = files.upload()\n",
        "import io\n",
        "\n",
        "letter = pd.read_csv(io.BytesIO(uploaded['letter-recognition.data']), header=None) #Load dataset letter-recognition\n",
        "encoded_letter = letter.copy()  # Copy original data\n",
        "\n",
        "encoded_letter[17] = letter[0] < 'N'  #Create a column where 'A-M' are True, others are False\n",
        "encoded_letter = encoded_letter.replace(False, -1) #Replace False to -1, True to +1  \n",
        "encoded_letter = encoded_letter.drop(0, axis=1)  #Drop first column containing letters\n",
        "\n",
        "letter_array = encoded_letter.to_numpy().astype(np.float) #Convert dataframe to numpy array\n",
        "\n",
        "X_letter = encoded_letter.to_numpy().astype(np.float)[:, :-1]  \n",
        "Y_letter = encoded_letter.to_numpy().astype(np.float)[:, -1].reshape(-1,1)\n",
        "\n",
        "print(X_letter.shape)  #(20000,16)\n",
        "print(Y_letter.shape)  #(20000, 1)"
      ],
      "execution_count": 26,
      "outputs": [
        {
          "output_type": "display_data",
          "data": {
            "text/html": [
              "\n",
              "     <input type=\"file\" id=\"files-66c1e85b-e897-4d3a-bf7d-22c2bdc25df9\" name=\"files[]\" multiple disabled\n",
              "        style=\"border:none\" />\n",
              "     <output id=\"result-66c1e85b-e897-4d3a-bf7d-22c2bdc25df9\">\n",
              "      Upload widget is only available when the cell has been executed in the\n",
              "      current browser session. Please rerun this cell to enable.\n",
              "      </output>\n",
              "      <script src=\"/nbextensions/google.colab/files.js\"></script> "
            ],
            "text/plain": [
              "<IPython.core.display.HTML object>"
            ]
          },
          "metadata": {
            "tags": []
          }
        },
        {
          "output_type": "stream",
          "text": [
            "Saving letter-recognition.data to letter-recognition.data\n",
            "(20000, 16)\n",
            "(20000, 1)\n"
          ],
          "name": "stdout"
        }
      ]
    },
    {
      "cell_type": "code",
      "metadata": {
        "id": "kETu0G-8AFpA"
      },
      "source": [
        ""
      ],
      "execution_count": null,
      "outputs": []
    },
    {
      "cell_type": "markdown",
      "metadata": {
        "id": "uN2L56XGAFpA"
      },
      "source": [
        "### 3 Algorithms and their parameters"
      ]
    },
    {
      "cell_type": "code",
      "metadata": {
        "id": "1UekMUt2AFpA"
      },
      "source": [
        "# parameters for Random Forest CV\n",
        "max_depth = [1,2,3,4,5]\n",
        "max_feature = [1,2,4,6,8,12,16,20]\n",
        "n_estimators = 1024\n",
        "\n",
        "# parameters for Logistic Regression \n",
        "C_list = [0.00000001, 0.0000001, 0.000001, 0.00001, 0.0001, 0.001, 0.01, 0.1, 1, 10, 100, 1000, 10000]\n",
        "\n",
        "# paramters for KNN\n",
        "n_neighbors = np.logspace(1, 500, 25)\n"
      ],
      "execution_count": 46,
      "outputs": []
    },
    {
      "cell_type": "code",
      "metadata": {
        "colab": {
          "base_uri": "https://localhost:8080/"
        },
        "id": "hWdKtS-uAFpL",
        "outputId": "c910b51a-ecdd-486f-c82b-a227ea0e3339"
      },
      "source": [
        "datasets = [adult_array, letter_array, covtype_array]\n",
        "test_accuracy_list = []\n",
        "best_score_list = []\n",
        "train_accuracy_list = []\n",
        "\n",
        "for dataset in datasets: # for loop for each of the three datasets\n",
        "    features = dataset[:, :-1]  # get X (features) from each of the datasets\n",
        "    labels = dataset[:, -1].reshape(-1,1) # get Y (labels) from each of the datasets\n",
        "    \n",
        "    for trial in range(3): # Loop through 3 trials for each dataset\n",
        "        # 5000 random samples \n",
        "        X_train, X_test, Y_train, Y_test = train_test_split(features, labels,\n",
        "                                                       train_size=5000)\n",
        "        \n",
        "        # Algorithm 1/3 LOGREG\n",
        "        logreg_p_grid = {'C': np.power(10., np.arange(-8, 4))}\n",
        "         \n",
        "        logreg = LogisticRegression()\n",
        "\n",
        "        logreg_clf = GridSearchCV(estimator=logreg, param_grid=logreg_p_grid, cv=5) #gridsearch with 5 fold cv\n",
        "        # Fitting a model to the whole training set\n",
        "        # using the best logreg\n",
        "        logreg_clf.fit(X_train, Y_train)\n",
        "\n",
        "        print('Mean cross-validated score of the best_estimator: %s' % logreg_clf.best_score_)\n",
        "        print('Parameters: %s' % logreg_clf.best_estimator_.get_params())\n",
        "\n",
        "        logreg_train_acc = accuracy_score(y_true=Y_train, y_pred=logreg_clf.predict(X_train)) #training accuracy\n",
        "        logreg_test_acc = accuracy_score(y_true=Y_test, y_pred=logreg_clf.predict(X_test)) # testing accuracy\n",
        "\n",
        "        print('Best parameters: %s' % logreg_clf.best_params_)\n",
        "        print('Training Accuracy: %.2f%%' % (100 * logreg_train_acc))\n",
        "        print('Test Accuracy: %.2f%%' % (100 * logreg_test_acc))\n",
        "        print('\\n')\n",
        "\n",
        "        # Append best_score, training_accuracy, test_accuracy into lists\n",
        "        best_score_list.append(['logreg', logreg_clf.best_score_])\n",
        "        train_accuracy_list.append(['logreg', logreg_train_acc])\n",
        "        test_accuracy_list.append(['logreg', logreg_test_acc])\n",
        "\n",
        "        \n",
        "        # Algorithm 2/3 KNN\n",
        "        knn_p_grid = {'n_neighbors': np.linspace(1, 500, 25).astype(int)}\n",
        "        \n",
        "        knn = KNeighborsClassifier()\n",
        "        \n",
        "        knn_clf = GridSearchCV(estimator=knn, param_grid=knn_p_grid, cv=5) #gridsearch with 5 fold cv\n",
        "        # Fitting a model to the whole training set\n",
        "        # using the best KNN\n",
        "        knn_clf.fit(X_train, Y_train)\n",
        "        \n",
        "        print('Mean cross-validated score of the best_estimator: %s' % knn_clf.best_score_)\n",
        "        print('Parameters: %s' % knn_clf.best_estimator_.get_params())\n",
        "\n",
        "        knn_train_acc = accuracy_score(y_true=Y_train, y_pred=knn_clf.predict(X_train)) # training accuracy\n",
        "        knn_test_acc = accuracy_score(y_true=Y_test, y_pred=knn_clf.predict(X_test)) # testing accuracy\n",
        "\n",
        "        print('Best parameters: %s' % knn_clf.best_params_)\n",
        "        print('Training Accuracy: %.2f%%' % (100 * knn_train_acc))\n",
        "        print('Test Accuracy: %.2f%%' % (100 * knn_test_acc))\n",
        "        print('\\n')\n",
        "        \n",
        "        # Append best_score, training_accuracy, testing_accuracy into lists\n",
        "        best_score_list.append(['knn', knn_clf.best_score_])\n",
        "        train_accuracy_list.append(['knn', knn_train_acc])\n",
        "        test_accuracy_list.append(['knn', knn_test_acc])\n",
        "\n",
        "        \n",
        "        # Algorithm 3/3 RandomForest\n",
        "        p_grid_rf = {'max_features': max_feature} #hyperparameter for RandomForest\n",
        "        rf = RandomForestClassifier(n_estimators=n_estimators) # RandomForest classifier\n",
        "\n",
        "        rf_clf = GridSearchCV(estimator=rf, param_grid=p_grid_rf, cv=5) #5 fold GridSearch \n",
        "        # Fitting a model to the whole training set\n",
        "        # using the best RF\n",
        "        rf_clf.fit(X_train, Y_train)\n",
        "\n",
        "        print('Mean cross-validated score of the best_estimator: %s' % rf_clf.best_score_)\n",
        "        print('Parameters: %s' % rf_clf.best_estimator_.get_params())\n",
        "\n",
        "        rf_train_acc = accuracy_score(y_true=Y_train, y_pred=rf_clf.predict(X_train)) # training accuracy\n",
        "        rf_test_acc = accuracy_score(y_true=Y_test, y_pred=rf_clf.predict(X_test)) # testing accuracy\n",
        "\n",
        "        print('Best parameters: %s' % rf_clf.best_params_)\n",
        "        print('Training Accuracy: %.2f%%' % (100 * rf_train_acc))\n",
        "        print('Test Accuracy: %.2f%%' % (100 * rf_test_acc))\n",
        "        print('\\n')\n",
        "\n",
        "        # Append best_score, training_accuracy, testing_accuracy into lists\n",
        "        best_score_list.append(['rf', rf_clf.best_score_])\n",
        "        train_accuracy_list.append(['rf', rf_train_acc])\n",
        "        test_accuracy_list.append(['rf', rf_test_acc])"
      ],
      "execution_count": 38,
      "outputs": [
        {
          "output_type": "stream",
          "text": [
            "Mean cross-validated score of the best_estimator: 0.7982000000000001\n",
            "Parameters: {'C': 1e-06, 'class_weight': None, 'dual': False, 'fit_intercept': True, 'intercept_scaling': 1, 'l1_ratio': None, 'max_iter': 100, 'multi_class': 'auto', 'n_jobs': None, 'penalty': 'l2', 'random_state': None, 'solver': 'lbfgs', 'tol': 0.0001, 'verbose': 0, 'warm_start': False}\n",
            "Best parameters: {'C': 1e-06}\n",
            "Training Accuracy: 79.88%\n",
            "Test Accuracy: 79.78%\n",
            "\n",
            "\n",
            "Mean cross-validated score of the best_estimator: 0.7824\n",
            "Parameters: {'algorithm': 'auto', 'leaf_size': 30, 'metric': 'minkowski', 'metric_params': None, 'n_jobs': None, 'n_neighbors': 21, 'p': 2, 'weights': 'uniform'}\n",
            "Best parameters: {'n_neighbors': 21}\n",
            "Training Accuracy: 78.82%\n",
            "Test Accuracy: 78.39%\n",
            "\n",
            "\n",
            "Mean cross-validated score of the best_estimator: 0.8555999999999999\n",
            "Parameters: {'bootstrap': True, 'ccp_alpha': 0.0, 'class_weight': None, 'criterion': 'gini', 'max_depth': None, 'max_features': 20, 'max_leaf_nodes': None, 'max_samples': None, 'min_impurity_decrease': 0.0, 'min_impurity_split': None, 'min_samples_leaf': 1, 'min_samples_split': 2, 'min_weight_fraction_leaf': 0.0, 'n_estimators': 1024, 'n_jobs': None, 'oob_score': False, 'random_state': None, 'verbose': 0, 'warm_start': False}\n",
            "Best parameters: {'max_features': 20}\n",
            "Training Accuracy: 100.00%\n",
            "Test Accuracy: 85.46%\n",
            "\n",
            "\n",
            "Mean cross-validated score of the best_estimator: 0.7986\n",
            "Parameters: {'C': 1.0, 'class_weight': None, 'dual': False, 'fit_intercept': True, 'intercept_scaling': 1, 'l1_ratio': None, 'max_iter': 100, 'multi_class': 'auto', 'n_jobs': None, 'penalty': 'l2', 'random_state': None, 'solver': 'lbfgs', 'tol': 0.0001, 'verbose': 0, 'warm_start': False}\n",
            "Best parameters: {'C': 1.0}\n",
            "Training Accuracy: 79.46%\n",
            "Test Accuracy: 79.53%\n",
            "\n",
            "\n",
            "Mean cross-validated score of the best_estimator: 0.7756000000000001\n",
            "Parameters: {'algorithm': 'auto', 'leaf_size': 30, 'metric': 'minkowski', 'metric_params': None, 'n_jobs': None, 'n_neighbors': 21, 'p': 2, 'weights': 'uniform'}\n",
            "Best parameters: {'n_neighbors': 21}\n",
            "Training Accuracy: 78.12%\n",
            "Test Accuracy: 78.58%\n",
            "\n",
            "\n",
            "Mean cross-validated score of the best_estimator: 0.8497999999999999\n",
            "Parameters: {'bootstrap': True, 'ccp_alpha': 0.0, 'class_weight': None, 'criterion': 'gini', 'max_depth': None, 'max_features': 20, 'max_leaf_nodes': None, 'max_samples': None, 'min_impurity_decrease': 0.0, 'min_impurity_split': None, 'min_samples_leaf': 1, 'min_samples_split': 2, 'min_weight_fraction_leaf': 0.0, 'n_estimators': 1024, 'n_jobs': None, 'oob_score': False, 'random_state': None, 'verbose': 0, 'warm_start': False}\n",
            "Best parameters: {'max_features': 20}\n",
            "Training Accuracy: 100.00%\n",
            "Test Accuracy: 85.17%\n",
            "\n",
            "\n",
            "Mean cross-validated score of the best_estimator: 0.8042\n",
            "Parameters: {'C': 0.001, 'class_weight': None, 'dual': False, 'fit_intercept': True, 'intercept_scaling': 1, 'l1_ratio': None, 'max_iter': 100, 'multi_class': 'auto', 'n_jobs': None, 'penalty': 'l2', 'random_state': None, 'solver': 'lbfgs', 'tol': 0.0001, 'verbose': 0, 'warm_start': False}\n",
            "Best parameters: {'C': 0.001}\n",
            "Training Accuracy: 80.30%\n",
            "Test Accuracy: 79.79%\n",
            "\n",
            "\n",
            "Mean cross-validated score of the best_estimator: 0.7817999999999999\n",
            "Parameters: {'algorithm': 'auto', 'leaf_size': 30, 'metric': 'minkowski', 'metric_params': None, 'n_jobs': None, 'n_neighbors': 21, 'p': 2, 'weights': 'uniform'}\n",
            "Best parameters: {'n_neighbors': 21}\n",
            "Training Accuracy: 79.14%\n",
            "Test Accuracy: 78.47%\n",
            "\n",
            "\n",
            "Mean cross-validated score of the best_estimator: 0.8515999999999998\n",
            "Parameters: {'bootstrap': True, 'ccp_alpha': 0.0, 'class_weight': None, 'criterion': 'gini', 'max_depth': None, 'max_features': 16, 'max_leaf_nodes': None, 'max_samples': None, 'min_impurity_decrease': 0.0, 'min_impurity_split': None, 'min_samples_leaf': 1, 'min_samples_split': 2, 'min_weight_fraction_leaf': 0.0, 'n_estimators': 1024, 'n_jobs': None, 'oob_score': False, 'random_state': None, 'verbose': 0, 'warm_start': False}\n",
            "Best parameters: {'max_features': 16}\n",
            "Training Accuracy: 100.00%\n",
            "Test Accuracy: 84.74%\n",
            "\n",
            "\n",
            "Mean cross-validated score of the best_estimator: 0.734\n",
            "Parameters: {'C': 0.1, 'class_weight': None, 'dual': False, 'fit_intercept': True, 'intercept_scaling': 1, 'l1_ratio': None, 'max_iter': 100, 'multi_class': 'auto', 'n_jobs': None, 'penalty': 'l2', 'random_state': None, 'solver': 'lbfgs', 'tol': 0.0001, 'verbose': 0, 'warm_start': False}\n",
            "Best parameters: {'C': 0.1}\n",
            "Training Accuracy: 73.62%\n",
            "Test Accuracy: 72.68%\n",
            "\n",
            "\n",
            "Mean cross-validated score of the best_estimator: 0.9495999999999999\n",
            "Parameters: {'algorithm': 'auto', 'leaf_size': 30, 'metric': 'minkowski', 'metric_params': None, 'n_jobs': None, 'n_neighbors': 1, 'p': 2, 'weights': 'uniform'}\n",
            "Best parameters: {'n_neighbors': 1}\n",
            "Training Accuracy: 100.00%\n",
            "Test Accuracy: 95.68%\n",
            "\n",
            "\n",
            "Mean cross-validated score of the best_estimator: 0.9396000000000001\n",
            "Parameters: {'bootstrap': True, 'ccp_alpha': 0.0, 'class_weight': None, 'criterion': 'gini', 'max_depth': None, 'max_features': 4, 'max_leaf_nodes': None, 'max_samples': None, 'min_impurity_decrease': 0.0, 'min_impurity_split': None, 'min_samples_leaf': 1, 'min_samples_split': 2, 'min_weight_fraction_leaf': 0.0, 'n_estimators': 1024, 'n_jobs': None, 'oob_score': False, 'random_state': None, 'verbose': 0, 'warm_start': False}\n",
            "Best parameters: {'max_features': 4}\n",
            "Training Accuracy: 100.00%\n",
            "Test Accuracy: 94.77%\n",
            "\n",
            "\n",
            "Mean cross-validated score of the best_estimator: 0.7258\n",
            "Parameters: {'C': 1000.0, 'class_weight': None, 'dual': False, 'fit_intercept': True, 'intercept_scaling': 1, 'l1_ratio': None, 'max_iter': 100, 'multi_class': 'auto', 'n_jobs': None, 'penalty': 'l2', 'random_state': None, 'solver': 'lbfgs', 'tol': 0.0001, 'verbose': 0, 'warm_start': False}\n",
            "Best parameters: {'C': 1000.0}\n",
            "Training Accuracy: 72.66%\n",
            "Test Accuracy: 72.73%\n",
            "\n",
            "\n",
            "Mean cross-validated score of the best_estimator: 0.9545999999999999\n",
            "Parameters: {'algorithm': 'auto', 'leaf_size': 30, 'metric': 'minkowski', 'metric_params': None, 'n_jobs': None, 'n_neighbors': 1, 'p': 2, 'weights': 'uniform'}\n",
            "Best parameters: {'n_neighbors': 1}\n",
            "Training Accuracy: 100.00%\n",
            "Test Accuracy: 95.69%\n",
            "\n",
            "\n",
            "Mean cross-validated score of the best_estimator: 0.9390000000000001\n",
            "Parameters: {'bootstrap': True, 'ccp_alpha': 0.0, 'class_weight': None, 'criterion': 'gini', 'max_depth': None, 'max_features': 4, 'max_leaf_nodes': None, 'max_samples': None, 'min_impurity_decrease': 0.0, 'min_impurity_split': None, 'min_samples_leaf': 1, 'min_samples_split': 2, 'min_weight_fraction_leaf': 0.0, 'n_estimators': 1024, 'n_jobs': None, 'oob_score': False, 'random_state': None, 'verbose': 0, 'warm_start': False}\n",
            "Best parameters: {'max_features': 4}\n",
            "Training Accuracy: 100.00%\n",
            "Test Accuracy: 94.57%\n",
            "\n",
            "\n",
            "Mean cross-validated score of the best_estimator: 0.7233999999999999\n",
            "Parameters: {'C': 100.0, 'class_weight': None, 'dual': False, 'fit_intercept': True, 'intercept_scaling': 1, 'l1_ratio': None, 'max_iter': 100, 'multi_class': 'auto', 'n_jobs': None, 'penalty': 'l2', 'random_state': None, 'solver': 'lbfgs', 'tol': 0.0001, 'verbose': 0, 'warm_start': False}\n",
            "Best parameters: {'C': 100.0}\n",
            "Training Accuracy: 72.10%\n",
            "Test Accuracy: 72.31%\n",
            "\n",
            "\n",
            "Mean cross-validated score of the best_estimator: 0.9480000000000001\n",
            "Parameters: {'algorithm': 'auto', 'leaf_size': 30, 'metric': 'minkowski', 'metric_params': None, 'n_jobs': None, 'n_neighbors': 1, 'p': 2, 'weights': 'uniform'}\n",
            "Best parameters: {'n_neighbors': 1}\n",
            "Training Accuracy: 100.00%\n",
            "Test Accuracy: 96.07%\n",
            "\n",
            "\n",
            "Mean cross-validated score of the best_estimator: 0.9366\n",
            "Parameters: {'bootstrap': True, 'ccp_alpha': 0.0, 'class_weight': None, 'criterion': 'gini', 'max_depth': None, 'max_features': 4, 'max_leaf_nodes': None, 'max_samples': None, 'min_impurity_decrease': 0.0, 'min_impurity_split': None, 'min_samples_leaf': 1, 'min_samples_split': 2, 'min_weight_fraction_leaf': 0.0, 'n_estimators': 1024, 'n_jobs': None, 'oob_score': False, 'random_state': None, 'verbose': 0, 'warm_start': False}\n",
            "Best parameters: {'max_features': 4}\n",
            "Training Accuracy: 100.00%\n",
            "Test Accuracy: 95.49%\n",
            "\n",
            "\n",
            "Mean cross-validated score of the best_estimator: 0.6162\n",
            "Parameters: {'C': 0.1, 'class_weight': None, 'dual': False, 'fit_intercept': True, 'intercept_scaling': 1, 'l1_ratio': None, 'max_iter': 100, 'multi_class': 'auto', 'n_jobs': None, 'penalty': 'l2', 'random_state': None, 'solver': 'lbfgs', 'tol': 0.0001, 'verbose': 0, 'warm_start': False}\n",
            "Best parameters: {'C': 0.1}\n",
            "Training Accuracy: 61.90%\n",
            "Test Accuracy: 61.34%\n",
            "\n",
            "\n",
            "Mean cross-validated score of the best_estimator: 0.7699999999999999\n",
            "Parameters: {'algorithm': 'auto', 'leaf_size': 30, 'metric': 'minkowski', 'metric_params': None, 'n_jobs': None, 'n_neighbors': 1, 'p': 2, 'weights': 'uniform'}\n",
            "Best parameters: {'n_neighbors': 1}\n",
            "Training Accuracy: 100.00%\n",
            "Test Accuracy: 78.56%\n",
            "\n",
            "\n",
            "Mean cross-validated score of the best_estimator: 0.8141999999999999\n",
            "Parameters: {'bootstrap': True, 'ccp_alpha': 0.0, 'class_weight': None, 'criterion': 'gini', 'max_depth': None, 'max_features': 20, 'max_leaf_nodes': None, 'max_samples': None, 'min_impurity_decrease': 0.0, 'min_impurity_split': None, 'min_samples_leaf': 1, 'min_samples_split': 2, 'min_weight_fraction_leaf': 0.0, 'n_estimators': 1024, 'n_jobs': None, 'oob_score': False, 'random_state': None, 'verbose': 0, 'warm_start': False}\n",
            "Best parameters: {'max_features': 20}\n",
            "Training Accuracy: 100.00%\n",
            "Test Accuracy: 82.17%\n",
            "\n",
            "\n",
            "Mean cross-validated score of the best_estimator: 0.6128\n",
            "Parameters: {'C': 0.001, 'class_weight': None, 'dual': False, 'fit_intercept': True, 'intercept_scaling': 1, 'l1_ratio': None, 'max_iter': 100, 'multi_class': 'auto', 'n_jobs': None, 'penalty': 'l2', 'random_state': None, 'solver': 'lbfgs', 'tol': 0.0001, 'verbose': 0, 'warm_start': False}\n",
            "Best parameters: {'C': 0.001}\n",
            "Training Accuracy: 61.08%\n",
            "Test Accuracy: 61.39%\n",
            "\n",
            "\n",
            "Mean cross-validated score of the best_estimator: 0.7642\n",
            "Parameters: {'algorithm': 'auto', 'leaf_size': 30, 'metric': 'minkowski', 'metric_params': None, 'n_jobs': None, 'n_neighbors': 1, 'p': 2, 'weights': 'uniform'}\n",
            "Best parameters: {'n_neighbors': 1}\n",
            "Training Accuracy: 100.00%\n",
            "Test Accuracy: 78.53%\n",
            "\n",
            "\n",
            "Mean cross-validated score of the best_estimator: 0.8219999999999998\n",
            "Parameters: {'bootstrap': True, 'ccp_alpha': 0.0, 'class_weight': None, 'criterion': 'gini', 'max_depth': None, 'max_features': 6, 'max_leaf_nodes': None, 'max_samples': None, 'min_impurity_decrease': 0.0, 'min_impurity_split': None, 'min_samples_leaf': 1, 'min_samples_split': 2, 'min_weight_fraction_leaf': 0.0, 'n_estimators': 1024, 'n_jobs': None, 'oob_score': False, 'random_state': None, 'verbose': 0, 'warm_start': False}\n",
            "Best parameters: {'max_features': 6}\n",
            "Training Accuracy: 100.00%\n",
            "Test Accuracy: 81.70%\n",
            "\n",
            "\n",
            "Mean cross-validated score of the best_estimator: 0.623\n",
            "Parameters: {'C': 1000.0, 'class_weight': None, 'dual': False, 'fit_intercept': True, 'intercept_scaling': 1, 'l1_ratio': None, 'max_iter': 100, 'multi_class': 'auto', 'n_jobs': None, 'penalty': 'l2', 'random_state': None, 'solver': 'lbfgs', 'tol': 0.0001, 'verbose': 0, 'warm_start': False}\n",
            "Best parameters: {'C': 1000.0}\n",
            "Training Accuracy: 62.04%\n",
            "Test Accuracy: 61.87%\n",
            "\n",
            "\n",
            "Mean cross-validated score of the best_estimator: 0.7708000000000002\n",
            "Parameters: {'algorithm': 'auto', 'leaf_size': 30, 'metric': 'minkowski', 'metric_params': None, 'n_jobs': None, 'n_neighbors': 1, 'p': 2, 'weights': 'uniform'}\n",
            "Best parameters: {'n_neighbors': 1}\n",
            "Training Accuracy: 100.00%\n",
            "Test Accuracy: 78.27%\n",
            "\n",
            "\n",
            "Mean cross-validated score of the best_estimator: 0.8108000000000001\n",
            "Parameters: {'bootstrap': True, 'ccp_alpha': 0.0, 'class_weight': None, 'criterion': 'gini', 'max_depth': None, 'max_features': 20, 'max_leaf_nodes': None, 'max_samples': None, 'min_impurity_decrease': 0.0, 'min_impurity_split': None, 'min_samples_leaf': 1, 'min_samples_split': 2, 'min_weight_fraction_leaf': 0.0, 'n_estimators': 1024, 'n_jobs': None, 'oob_score': False, 'random_state': None, 'verbose': 0, 'warm_start': False}\n",
            "Best parameters: {'max_features': 20}\n",
            "Training Accuracy: 100.00%\n",
            "Test Accuracy: 82.37%\n",
            "\n",
            "\n"
          ],
          "name": "stdout"
        }
      ]
    },
    {
      "cell_type": "code",
      "metadata": {
        "colab": {
          "base_uri": "https://localhost:8080/"
        },
        "id": "W3doEnNWAFpM",
        "outputId": "2b2ddd9f-6dda-4db6-e83c-e9a2d7211012"
      },
      "source": [
        "best_score_list"
      ],
      "execution_count": 54,
      "outputs": [
        {
          "output_type": "execute_result",
          "data": {
            "text/plain": [
              "[['logreg', 0.7982000000000001],\n",
              " ['knn', 0.7824],\n",
              " ['rf', 0.8555999999999999],\n",
              " ['logreg', 0.7986],\n",
              " ['knn', 0.7756000000000001],\n",
              " ['rf', 0.8497999999999999],\n",
              " ['logreg', 0.8042],\n",
              " ['knn', 0.7817999999999999],\n",
              " ['rf', 0.8515999999999998],\n",
              " ['logreg', 0.734],\n",
              " ['knn', 0.9495999999999999],\n",
              " ['rf', 0.9396000000000001],\n",
              " ['logreg', 0.7258],\n",
              " ['knn', 0.9545999999999999],\n",
              " ['rf', 0.9390000000000001],\n",
              " ['logreg', 0.7233999999999999],\n",
              " ['knn', 0.9480000000000001],\n",
              " ['rf', 0.9366],\n",
              " ['logreg', 0.6162],\n",
              " ['knn', 0.7699999999999999],\n",
              " ['rf', 0.8141999999999999],\n",
              " ['logreg', 0.6128],\n",
              " ['knn', 0.7642],\n",
              " ['rf', 0.8219999999999998],\n",
              " ['logreg', 0.623],\n",
              " ['knn', 0.7708000000000002],\n",
              " ['rf', 0.8108000000000001]]"
            ]
          },
          "metadata": {
            "tags": []
          },
          "execution_count": 54
        }
      ]
    },
    {
      "cell_type": "code",
      "metadata": {
        "colab": {
          "base_uri": "https://localhost:8080/"
        },
        "id": "QqDavDxzAFpM",
        "outputId": "c5027746-8b98-4b52-abd2-c38929486d6a"
      },
      "source": [
        "train_accuracy_list"
      ],
      "execution_count": 40,
      "outputs": [
        {
          "output_type": "execute_result",
          "data": {
            "text/plain": [
              "[['logreg', 0.7988],\n",
              " ['knn', 0.7882],\n",
              " ['rf', 1.0],\n",
              " ['logreg', 0.7946],\n",
              " ['knn', 0.7812],\n",
              " ['rf', 1.0],\n",
              " ['logreg', 0.803],\n",
              " ['knn', 0.7914],\n",
              " ['rf', 1.0],\n",
              " ['logreg', 0.7362],\n",
              " ['knn', 1.0],\n",
              " ['rf', 1.0],\n",
              " ['logreg', 0.7266],\n",
              " ['knn', 1.0],\n",
              " ['rf', 1.0],\n",
              " ['logreg', 0.721],\n",
              " ['knn', 1.0],\n",
              " ['rf', 1.0],\n",
              " ['logreg', 0.619],\n",
              " ['knn', 1.0],\n",
              " ['rf', 1.0],\n",
              " ['logreg', 0.6108],\n",
              " ['knn', 1.0],\n",
              " ['rf', 1.0],\n",
              " ['logreg', 0.6204],\n",
              " ['knn', 1.0],\n",
              " ['rf', 1.0]]"
            ]
          },
          "metadata": {
            "tags": []
          },
          "execution_count": 40
        }
      ]
    },
    {
      "cell_type": "code",
      "metadata": {
        "colab": {
          "base_uri": "https://localhost:8080/"
        },
        "id": "9l7JWlDrAFpM",
        "outputId": "2b5d83cc-5f08-4dd9-96f4-0d9246667aee"
      },
      "source": [
        "test_accuracy_list"
      ],
      "execution_count": 41,
      "outputs": [
        {
          "output_type": "execute_result",
          "data": {
            "text/plain": [
              "[['logreg', 0.797830267406843],\n",
              " ['knn', 0.7838975363738616],\n",
              " ['rf', 0.8545771198432568],\n",
              " ['logreg', 0.7953267297993541],\n",
              " ['knn', 0.7858205435216429],\n",
              " ['rf', 0.8517107506984507],\n",
              " ['logreg', 0.7978665505605748],\n",
              " ['knn', 0.7846957657559596],\n",
              " ['rf', 0.847356772250644],\n",
              " ['logreg', 0.7268],\n",
              " ['knn', 0.9568],\n",
              " ['rf', 0.9477333333333333],\n",
              " ['logreg', 0.7272666666666666],\n",
              " ['knn', 0.9569333333333333],\n",
              " ['rf', 0.9456666666666667],\n",
              " ['logreg', 0.7231333333333333],\n",
              " ['knn', 0.9606666666666667],\n",
              " ['rf', 0.9549333333333333],\n",
              " ['logreg', 0.6133639576953258],\n",
              " ['knn', 0.785563495204961],\n",
              " ['rf', 0.8217137837406165],\n",
              " ['logreg', 0.6138795719533621],\n",
              " ['knn', 0.7852510017152421],\n",
              " ['rf', 0.8169517301722881],\n",
              " ['logreg', 0.6187266931938918],\n",
              " ['knn', 0.7826850829496608],\n",
              " ['rf', 0.8236807566509031]]"
            ]
          },
          "metadata": {
            "tags": []
          },
          "execution_count": 41
        }
      ]
    },
    {
      "cell_type": "code",
      "metadata": {
        "colab": {
          "base_uri": "https://localhost:8080/"
        },
        "id": "ez2xDb4-W7Pt",
        "outputId": "4dc4930f-6fb6-4cb9-96de-dcfbd84c99a0"
      },
      "source": [
        "# Store all logreg test scores in a list\r\n",
        "logreg_test_score_list = test_accuracy_list[::3]\r\n",
        "logreg_test_score_list"
      ],
      "execution_count": 74,
      "outputs": [
        {
          "output_type": "execute_result",
          "data": {
            "text/plain": [
              "[['logreg', 0.797830267406843],\n",
              " ['logreg', 0.7953267297993541],\n",
              " ['logreg', 0.7978665505605748],\n",
              " ['logreg', 0.7268],\n",
              " ['logreg', 0.7272666666666666],\n",
              " ['logreg', 0.7231333333333333],\n",
              " ['logreg', 0.6133639576953258],\n",
              " ['logreg', 0.6138795719533621],\n",
              " ['logreg', 0.6187266931938918]]"
            ]
          },
          "metadata": {
            "tags": []
          },
          "execution_count": 74
        }
      ]
    },
    {
      "cell_type": "code",
      "metadata": {
        "colab": {
          "base_uri": "https://localhost:8080/"
        },
        "id": "708Kqhowgkoe",
        "outputId": "1afd94c7-baed-409b-fe4b-e305dd7cb96e"
      },
      "source": [
        "# Store all knn test scores in a list\r\n",
        "knn_test_score_list = test_accuracy_list[1::3]\r\n",
        "knn_test_score_list"
      ],
      "execution_count": 73,
      "outputs": [
        {
          "output_type": "execute_result",
          "data": {
            "text/plain": [
              "[['knn', 0.7838975363738616],\n",
              " ['knn', 0.7858205435216429],\n",
              " ['knn', 0.7846957657559596],\n",
              " ['knn', 0.9568],\n",
              " ['knn', 0.9569333333333333],\n",
              " ['knn', 0.9606666666666667],\n",
              " ['knn', 0.785563495204961],\n",
              " ['knn', 0.7852510017152421],\n",
              " ['knn', 0.7826850829496608]]"
            ]
          },
          "metadata": {
            "tags": []
          },
          "execution_count": 73
        }
      ]
    },
    {
      "cell_type": "code",
      "metadata": {
        "colab": {
          "base_uri": "https://localhost:8080/"
        },
        "id": "pRTSaMLGjbs_",
        "outputId": "f65d5268-9430-456f-c157-3b40f93cb71b"
      },
      "source": [
        "# Store all RF test scores in a list\r\n",
        "rf_test_score_list = test_accuracy_list[2::3]\r\n",
        "rf_test_score_list"
      ],
      "execution_count": 76,
      "outputs": [
        {
          "output_type": "execute_result",
          "data": {
            "text/plain": [
              "[['rf', 0.8545771198432568],\n",
              " ['rf', 0.8517107506984507],\n",
              " ['rf', 0.847356772250644],\n",
              " ['rf', 0.9477333333333333],\n",
              " ['rf', 0.9456666666666667],\n",
              " ['rf', 0.9549333333333333],\n",
              " ['rf', 0.8217137837406165],\n",
              " ['rf', 0.8169517301722881],\n",
              " ['rf', 0.8236807566509031]]"
            ]
          },
          "metadata": {
            "tags": []
          },
          "execution_count": 76
        }
      ]
    },
    {
      "cell_type": "code",
      "metadata": {
        "colab": {
          "base_uri": "https://localhost:8080/"
        },
        "id": "QYes-iVPlG6P",
        "outputId": "e8061c00-8b38-42a0-80a9-9519cf5c29df"
      },
      "source": [
        "# mean of all logreg test score\r\n",
        "logreg_test_score = np.mean([row[1] for row in logreg_test_score_list])\r\n",
        "logreg_test_score"
      ],
      "execution_count": 92,
      "outputs": [
        {
          "output_type": "execute_result",
          "data": {
            "text/plain": [
              "0.7126881967343723"
            ]
          },
          "metadata": {
            "tags": []
          },
          "execution_count": 92
        }
      ]
    },
    {
      "cell_type": "code",
      "metadata": {
        "colab": {
          "base_uri": "https://localhost:8080/"
        },
        "id": "u-n-5faclVq_",
        "outputId": "e241e127-60dd-4bb4-e343-5f56ea6b87da"
      },
      "source": [
        "# mean of all knn test score\r\n",
        "knn_test_score = np.mean([row[1]  for row in knn_test_score_list])\r\n",
        "knn_test_score"
      ],
      "execution_count": 93,
      "outputs": [
        {
          "output_type": "execute_result",
          "data": {
            "text/plain": [
              "0.8424792695023697"
            ]
          },
          "metadata": {
            "tags": []
          },
          "execution_count": 93
        }
      ]
    },
    {
      "cell_type": "code",
      "metadata": {
        "colab": {
          "base_uri": "https://localhost:8080/"
        },
        "id": "5sR4VLCFl2f_",
        "outputId": "d7f7a9af-2947-42b4-ae3c-2fdf313980d5"
      },
      "source": [
        "# mean of all RF test score\r\n",
        "rf_test_score = np.mean([row[1] for row in rf_test_score_list])\r\n",
        "rf_test_score"
      ],
      "execution_count": 95,
      "outputs": [
        {
          "output_type": "execute_result",
          "data": {
            "text/plain": [
              "0.8738138051877214"
            ]
          },
          "metadata": {
            "tags": []
          },
          "execution_count": 95
        }
      ]
    },
    {
      "cell_type": "code",
      "metadata": {
        "id": "P16DXKHYmd03"
      },
      "source": [
        "# Store logreg test score of each dataset in a list\r\n",
        "logreg_adult = logreg_test_score_list[:3]\r\n",
        "logreg_letter = logreg_test_score_list[3:6]\r\n",
        "logreg_covtype = logreg_test_score_list[6:]"
      ],
      "execution_count": 120,
      "outputs": []
    },
    {
      "cell_type": "code",
      "metadata": {
        "id": "rmBss_vsp2PQ"
      },
      "source": [
        "# Store KNN test score of each dataset in a list\r\n",
        "knn_adult = knn_test_score_list[:3]\r\n",
        "knn_letter = knn_test_score_list[3:6]\r\n",
        "knn_covtype = knn_test_score_list[6:]"
      ],
      "execution_count": 112,
      "outputs": []
    },
    {
      "cell_type": "code",
      "metadata": {
        "id": "ZWF2YB6Yqz-h"
      },
      "source": [
        "# Store RF test score of each dataset in a list\r\n",
        "rf_adult = rf_test_score_list[:3]\r\n",
        "rf_letter = rf_test_score_list[3:6]\r\n",
        "rf_covtype = rf_test_score_list[6:]"
      ],
      "execution_count": 117,
      "outputs": []
    },
    {
      "cell_type": "code",
      "metadata": {
        "colab": {
          "base_uri": "https://localhost:8080/"
        },
        "id": "S8VKmSsmraoA",
        "outputId": "8efe6bfd-9b53-46e0-c134-f342d5c2b120"
      },
      "source": [
        "# mean of logreg test score using adult dataset\r\n",
        "logreg_adult_test_score = np.mean([row[1] for row in logreg_adult])\r\n",
        "logreg_adult_test_score"
      ],
      "execution_count": 122,
      "outputs": [
        {
          "output_type": "execute_result",
          "data": {
            "text/plain": [
              "0.7970078492555907"
            ]
          },
          "metadata": {
            "tags": []
          },
          "execution_count": 122
        }
      ]
    },
    {
      "cell_type": "code",
      "metadata": {
        "colab": {
          "base_uri": "https://localhost:8080/"
        },
        "id": "HbLF-LgPrvig",
        "outputId": "6d133a6a-3c71-4bfd-bd8e-f8238cc9981b"
      },
      "source": [
        "# mean of logreg test score using letter dataset\r\n",
        "logreg_letter_test_score = np.mean([row[1] for row in logreg_letter])\r\n",
        "logreg_letter_test_score"
      ],
      "execution_count": 124,
      "outputs": [
        {
          "output_type": "execute_result",
          "data": {
            "text/plain": [
              "0.7257333333333333"
            ]
          },
          "metadata": {
            "tags": []
          },
          "execution_count": 124
        }
      ]
    },
    {
      "cell_type": "code",
      "metadata": {
        "colab": {
          "base_uri": "https://localhost:8080/"
        },
        "id": "x5z6VK8Rr50X",
        "outputId": "7855bdb7-9cdf-4324-b35a-921fb19d1cc9"
      },
      "source": [
        "# mean of logreg test score using covtype dataset\r\n",
        "logreg_covtype_test_score = np.mean([row[1] for row in logreg_covtype])\r\n",
        "logreg_covtype_test_score"
      ],
      "execution_count": 125,
      "outputs": [
        {
          "output_type": "execute_result",
          "data": {
            "text/plain": [
              "0.6153234076141932"
            ]
          },
          "metadata": {
            "tags": []
          },
          "execution_count": 125
        }
      ]
    },
    {
      "cell_type": "code",
      "metadata": {
        "colab": {
          "base_uri": "https://localhost:8080/"
        },
        "id": "zQ3664bVs4fg",
        "outputId": "ea132256-00eb-470d-8d6c-090f0dc5bb86"
      },
      "source": [
        "# mean of knn test score using adult dataset\r\n",
        "knn_adult_test_score = np.mean([row[1] for row in knn_adult])\r\n",
        "knn_adult_test_score"
      ],
      "execution_count": 133,
      "outputs": [
        {
          "output_type": "execute_result",
          "data": {
            "text/plain": [
              "0.7848046152171547"
            ]
          },
          "metadata": {
            "tags": []
          },
          "execution_count": 133
        }
      ]
    },
    {
      "cell_type": "code",
      "metadata": {
        "colab": {
          "base_uri": "https://localhost:8080/"
        },
        "id": "sVKiAJW9s5x_",
        "outputId": "0c2e5e7b-8a87-4ea5-898f-ca1d805ffdc7"
      },
      "source": [
        "# mean of knn test score using letter dataset\r\n",
        "knn_letter_test_score = np.mean([row[1] for row in knn_letter])\r\n",
        "knn_letter_test_score"
      ],
      "execution_count": 130,
      "outputs": [
        {
          "output_type": "execute_result",
          "data": {
            "text/plain": [
              "0.9581333333333334"
            ]
          },
          "metadata": {
            "tags": []
          },
          "execution_count": 130
        }
      ]
    },
    {
      "cell_type": "code",
      "metadata": {
        "colab": {
          "base_uri": "https://localhost:8080/"
        },
        "id": "jyR9oVTFtIkQ",
        "outputId": "7d9ca3d4-207d-47f7-f4c9-bdf93aca9292"
      },
      "source": [
        "# mean of knn test score using covtype dataset\r\n",
        "knn_covtype_test_score = np.mean([row[1] for row in knn_covtype])\r\n",
        "knn_covtype_test_score"
      ],
      "execution_count": 132,
      "outputs": [
        {
          "output_type": "execute_result",
          "data": {
            "text/plain": [
              "0.7844998599566213"
            ]
          },
          "metadata": {
            "tags": []
          },
          "execution_count": 132
        }
      ]
    },
    {
      "cell_type": "code",
      "metadata": {
        "colab": {
          "base_uri": "https://localhost:8080/"
        },
        "id": "ZyEkcvewt2fA",
        "outputId": "0c79464f-fe2c-48bf-f8c3-eab17be2006e"
      },
      "source": [
        "# mean of RF test score using adult dataset\r\n",
        "rf_adult_test_score = np.mean([row[1] for row in rf_adult])\r\n",
        "rf_adult_test_score"
      ],
      "execution_count": 135,
      "outputs": [
        {
          "output_type": "execute_result",
          "data": {
            "text/plain": [
              "0.8512148809307839"
            ]
          },
          "metadata": {
            "tags": []
          },
          "execution_count": 135
        }
      ]
    },
    {
      "cell_type": "code",
      "metadata": {
        "colab": {
          "base_uri": "https://localhost:8080/"
        },
        "id": "cbYm3hwiuX6z",
        "outputId": "186b3095-6a25-4cbe-afe0-2157b627c0ab"
      },
      "source": [
        "# mean of RF test score using letter dataset\r\n",
        "rf_letter_test_score = np.mean([row[1] for row in rf_letter])\r\n",
        "rf_letter_test_score"
      ],
      "execution_count": 136,
      "outputs": [
        {
          "output_type": "execute_result",
          "data": {
            "text/plain": [
              "0.9494444444444444"
            ]
          },
          "metadata": {
            "tags": []
          },
          "execution_count": 136
        }
      ]
    },
    {
      "cell_type": "code",
      "metadata": {
        "colab": {
          "base_uri": "https://localhost:8080/"
        },
        "id": "0sR6IbqeumHI",
        "outputId": "a699fc4b-42ec-420d-a27a-a871b22cd3db"
      },
      "source": [
        "# mean of RF test score using covtype dataset\r\n",
        "rf_covtype_test_score = np.mean([row[1] for row in rf_covtype])\r\n",
        "rf_covtype_test_score"
      ],
      "execution_count": 139,
      "outputs": [
        {
          "output_type": "execute_result",
          "data": {
            "text/plain": [
              "0.820782090187936"
            ]
          },
          "metadata": {
            "tags": []
          },
          "execution_count": 139
        }
      ]
    },
    {
      "cell_type": "code",
      "metadata": {
        "colab": {
          "base_uri": "https://localhost:8080/"
        },
        "id": "HXfhsYFBDb5W",
        "outputId": "3b86449f-8bda-4493-f7c7-93da1b70fda7"
      },
      "source": [
        "# 2 sample t-test of logreg and knn algorithms\r\n",
        "logreg_knn_ttest, logreg_knn_pvalue = stats.ttest_rel([row[1] for row in logreg_test_score_list], [row[1] for row in knn_test_score_list])\r\n",
        "logreg_knn_pvalue"
      ],
      "execution_count": 150,
      "outputs": [
        {
          "output_type": "execute_result",
          "data": {
            "text/plain": [
              "0.007626337404120206"
            ]
          },
          "metadata": {
            "tags": []
          },
          "execution_count": 150
        }
      ]
    },
    {
      "cell_type": "code",
      "metadata": {
        "id": "XoBALW7TUXDQ"
      },
      "source": [
        "# function to calculate Cohen's d for independent samples\r\n",
        "def cohend(a1, a2):\r\n",
        "\t# calculate the size of samples\r\n",
        "\tn1, n2 = len(a1), len(a2)\r\n",
        "\t# calculate the variance of the samples\r\n",
        "\ts1, s2 = np.var(a1, ddof=1), np.var(a2, ddof=1)\r\n",
        "\t# calculate the pooled standard deviation\r\n",
        "\ts = np.sqrt(((n1 - 1) * s1 + (n2 - 1) * s2) / (n1 + n2 - 2))\r\n",
        "\t# calculate the means of the samples\r\n",
        "\tm1, m2 = np.mean(a1), np.mean(a2)\r\n",
        "\t# calculate the effect size\r\n",
        "\treturn (m1 - m2) / s"
      ],
      "execution_count": 187,
      "outputs": []
    },
    {
      "cell_type": "code",
      "metadata": {
        "id": "WkysZJg8Ux6R",
        "outputId": "dea964b7-e2c2-4fa9-e67c-5140981fa99f",
        "colab": {
          "base_uri": "https://localhost:8080/"
        }
      },
      "source": [
        "# cohen's d for logreg and knn algorithms\r\n",
        "cohend([row[1] for row in logreg_test_score_list], [row[1] for row in knn_test_score_list])"
      ],
      "execution_count": 188,
      "outputs": [
        {
          "output_type": "execute_result",
          "data": {
            "text/plain": [
              "-1.5616548694068675"
            ]
          },
          "metadata": {
            "tags": []
          },
          "execution_count": 188
        }
      ]
    },
    {
      "cell_type": "code",
      "metadata": {
        "colab": {
          "base_uri": "https://localhost:8080/"
        },
        "id": "MWI8AqL4D1zf",
        "outputId": "86090abb-3d51-47c5-e975-b23ad66548c1"
      },
      "source": [
        "# 2 sample t-test of logreg and rf algorithms\r\n",
        "logreg_rf_ttest, logreg_rf_pvalue = stats.ttest_rel([row[1] for row in logreg_test_score_list], [row[1] for row in rf_test_score_list])\r\n",
        "logreg_rf_pvalue"
      ],
      "execution_count": 151,
      "outputs": [
        {
          "output_type": "execute_result",
          "data": {
            "text/plain": [
              "0.00032690426156797793"
            ]
          },
          "metadata": {
            "tags": []
          },
          "execution_count": 151
        }
      ]
    },
    {
      "cell_type": "code",
      "metadata": {
        "id": "00IW505hVWBa",
        "outputId": "0f620040-35c8-4702-af08-2cbfe48b75c5",
        "colab": {
          "base_uri": "https://localhost:8080/"
        }
      },
      "source": [
        "# cohen's d for logreg and rf algorithms\r\n",
        "cohend([row[1] for row in logreg_test_score_list], [row[1] for row in rf_test_score_list])"
      ],
      "execution_count": 189,
      "outputs": [
        {
          "output_type": "execute_result",
          "data": {
            "text/plain": [
              "-2.3145455352570163"
            ]
          },
          "metadata": {
            "tags": []
          },
          "execution_count": 189
        }
      ]
    },
    {
      "cell_type": "code",
      "metadata": {
        "colab": {
          "base_uri": "https://localhost:8080/"
        },
        "id": "Ehsc7w0EEjV2",
        "outputId": "5850e8c8-b70a-4b72-d15f-272b448ed05c"
      },
      "source": [
        "# 2 sample t-test of knn and rf algorithms\r\n",
        "knn_rf_ttest, knn_rf_pvalue = stats.ttest_rel([row[1] for row in knn_test_score_list], [row[1] for row in rf_test_score_list])\r\n",
        "knn_rf_pvalue"
      ],
      "execution_count": 154,
      "outputs": [
        {
          "output_type": "execute_result",
          "data": {
            "text/plain": [
              "0.021251711028502804"
            ]
          },
          "metadata": {
            "tags": []
          },
          "execution_count": 154
        }
      ]
    },
    {
      "cell_type": "code",
      "metadata": {
        "id": "sFH_42jNXdbO",
        "outputId": "c6e81ce8-ee01-48be-8b1a-365602ddb740",
        "colab": {
          "base_uri": "https://localhost:8080/"
        }
      },
      "source": [
        "# cohen's d for knn and rf algorithms\r\n",
        "cohend([row[1] for row in knn_test_score_list], [row[1] for row in rf_test_score_list])"
      ],
      "execution_count": 197,
      "outputs": [
        {
          "output_type": "execute_result",
          "data": {
            "text/plain": [
              "-0.42387792203173114"
            ]
          },
          "metadata": {
            "tags": []
          },
          "execution_count": 197
        }
      ]
    },
    {
      "cell_type": "code",
      "metadata": {
        "colab": {
          "base_uri": "https://localhost:8080/"
        },
        "id": "M37TNtXkEu9f",
        "outputId": "e07fb05d-83e1-4edd-e8b1-867f5184d0d0"
      },
      "source": [
        "# 2 sample t-test of logreg and knn algorithms on cov_type data\r\n",
        "logreg_knn_covtype_ttest, logreg_knn_covtype_pvalue = stats.ttest_rel([row[1] for row in logreg_covtype], [row[1] for row in knn_covtype])\r\n",
        "logreg_knn_covtype_pvalue"
      ],
      "execution_count": 164,
      "outputs": [
        {
          "output_type": "execute_result",
          "data": {
            "text/plain": [
              "0.00023974708724901398"
            ]
          },
          "metadata": {
            "tags": []
          },
          "execution_count": 164
        }
      ]
    },
    {
      "cell_type": "code",
      "metadata": {
        "colab": {
          "base_uri": "https://localhost:8080/"
        },
        "id": "z5lQQQgPIqIK",
        "outputId": "7d73d8d7-24ac-465c-86c1-48389fc2aa9b"
      },
      "source": [
        "# 2 sample t-test of logreg and knn algorithms on adult data\r\n",
        "logreg_knn_adult_ttest, logreg_knn_adult_pvalue = stats.ttest_rel([row[1] for row in logreg_adult], [row[1] for row in knn_adult])\r\n",
        "logreg_knn_adult_pvalue"
      ],
      "execution_count": 165,
      "outputs": [
        {
          "output_type": "execute_result",
          "data": {
            "text/plain": [
              "0.012305411064896299"
            ]
          },
          "metadata": {
            "tags": []
          },
          "execution_count": 165
        }
      ]
    },
    {
      "cell_type": "code",
      "metadata": {
        "colab": {
          "base_uri": "https://localhost:8080/"
        },
        "id": "aUis-Dv0J42g",
        "outputId": "a1c05f9e-a6dc-42af-aa76-a4a9548f8166"
      },
      "source": [
        "# 2 sample t-test of logreg and knn algorithms on letter data\r\n",
        "logreg_knn_letter_ttest, logreg_knn_letter_pvalue = stats.ttest_rel([row[1] for row in logreg_letter], [row[1] for row in knn_letter])\r\n",
        "logreg_knn_letter_pvalue"
      ],
      "execution_count": 166,
      "outputs": [
        {
          "output_type": "execute_result",
          "data": {
            "text/plain": [
              "0.0001221229012623203"
            ]
          },
          "metadata": {
            "tags": []
          },
          "execution_count": 166
        }
      ]
    },
    {
      "cell_type": "code",
      "metadata": {
        "colab": {
          "base_uri": "https://localhost:8080/"
        },
        "id": "jrfW2dtVKxlZ",
        "outputId": "d73dbfbb-2a4b-4dda-a6cd-1c141d1ac130"
      },
      "source": [
        "# 2 sample t-test of logreg and RF algorithms on cov_type data\r\n",
        "logreg_rf_covtype_ttest, logreg_rf_covtype_pvalue = stats.ttest_rel([row[1] for row in logreg_covtype], [row[1] for row in rf_covtype])\r\n",
        "logreg_rf_covtype_pvalue"
      ],
      "execution_count": 167,
      "outputs": [
        {
          "output_type": "execute_result",
          "data": {
            "text/plain": [
              "5.648949173692123e-05"
            ]
          },
          "metadata": {
            "tags": []
          },
          "execution_count": 167
        }
      ]
    },
    {
      "cell_type": "code",
      "metadata": {
        "colab": {
          "base_uri": "https://localhost:8080/"
        },
        "id": "2dbdvnoDLOyI",
        "outputId": "934587d3-fa02-4485-ee6c-b1f4d6bb0c70"
      },
      "source": [
        "# 2 sample t-test of logreg and RF algorithms on adult data\r\n",
        "logreg_rf_adult_ttest, logreg_rf_adult_pvalue = stats.ttest_rel([row[1] for row in logreg_adult], [row[1] for row in rf_adult])\r\n",
        "logreg_rf_adult_pvalue"
      ],
      "execution_count": 169,
      "outputs": [
        {
          "output_type": "execute_result",
          "data": {
            "text/plain": [
              "0.0018912453537381837"
            ]
          },
          "metadata": {
            "tags": []
          },
          "execution_count": 169
        }
      ]
    },
    {
      "cell_type": "code",
      "metadata": {
        "colab": {
          "base_uri": "https://localhost:8080/"
        },
        "id": "KrY2pTNSLRVQ",
        "outputId": "d87b50f1-fd46-4a99-db09-465b658d194f"
      },
      "source": [
        "# 2 sample t-test of logreg and RF algorithms on letter data\r\n",
        "logreg_rf_letter_ttest, logreg_rf_letter_pvalue = stats.ttest_rel([row[1] for row in logreg_letter], [row[1] for row in rf_letter])\r\n",
        "logreg_rf_letter_pvalue"
      ],
      "execution_count": 170,
      "outputs": [
        {
          "output_type": "execute_result",
          "data": {
            "text/plain": [
              "0.00033736112484088085"
            ]
          },
          "metadata": {
            "tags": []
          },
          "execution_count": 170
        }
      ]
    },
    {
      "cell_type": "code",
      "metadata": {
        "colab": {
          "base_uri": "https://localhost:8080/"
        },
        "id": "zwOh7HLULvzA",
        "outputId": "9ec4442e-3ad2-4b33-fc80-45ef436d89f7"
      },
      "source": [
        "# 2 sample t-test of KNN and RF algorithms on covtype data\r\n",
        "knn_rf_covtype_ttest, knn_rf_covtype_pvalue = stats.ttest_rel([row[1] for row in knn_covtype], [row[1] for row in rf_covtype])\r\n",
        "knn_rf_covtype_pvalue"
      ],
      "execution_count": 171,
      "outputs": [
        {
          "output_type": "execute_result",
          "data": {
            "text/plain": [
              "0.005427997770256567"
            ]
          },
          "metadata": {
            "tags": []
          },
          "execution_count": 171
        }
      ]
    },
    {
      "cell_type": "code",
      "metadata": {
        "colab": {
          "base_uri": "https://localhost:8080/"
        },
        "id": "FNwa3dMKMEVA",
        "outputId": "5bb1a503-535a-4e9a-81ad-93bb38e25242"
      },
      "source": [
        "# 2 sample t-test of KNN and RF algorithms on adult data\r\n",
        "knn_rf_adult_ttest, knn_rf_adult_pvalue = stats.ttest_rel([row[1] for row in knn_adult], [row[1] for row in rf_adult])\r\n",
        "knn_rf_adult_pvalue"
      ],
      "execution_count": 172,
      "outputs": [
        {
          "output_type": "execute_result",
          "data": {
            "text/plain": [
              "0.0012279722319366653"
            ]
          },
          "metadata": {
            "tags": []
          },
          "execution_count": 172
        }
      ]
    },
    {
      "cell_type": "code",
      "metadata": {
        "colab": {
          "base_uri": "https://localhost:8080/"
        },
        "id": "NKklazR_MQNQ",
        "outputId": "4819f601-28bc-40fa-b21e-cc83afbae6d0"
      },
      "source": [
        "# 2 sample t-test of KNN and RF algorithms on letter data\r\n",
        "knn_rf_letter_ttest, knn_rf_letter_pvalue = stats.ttest_rel([row[1] for row in knn_letter], [row[1] for row in rf_letter])\r\n",
        "knn_rf_letter_pvalue"
      ],
      "execution_count": 173,
      "outputs": [
        {
          "output_type": "execute_result",
          "data": {
            "text/plain": [
              "0.0326019129217874"
            ]
          },
          "metadata": {
            "tags": []
          },
          "execution_count": 173
        }
      ]
    },
    {
      "cell_type": "code",
      "metadata": {
        "id": "rNbLw7hkMZpo"
      },
      "source": [
        ""
      ],
      "execution_count": 192,
      "outputs": []
    },
    {
      "cell_type": "code",
      "metadata": {
        "id": "OPKvpS1SWL1S"
      },
      "source": [
        ""
      ],
      "execution_count": null,
      "outputs": []
    }
  ]
}